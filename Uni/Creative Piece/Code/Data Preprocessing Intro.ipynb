{
 "cells": [
  {
   "cell_type": "markdown",
   "id": "08b8e7e3",
   "metadata": {},
   "source": [
    "# COST OF LIVING IN THE UK: INSIGHTS VIA AI, DATA VISUALIZATION, AND STORYTELLING\n",
    "\n",
    "*By Amin Sabbagh*  \n",
    "*Student ID: 18055392* <br>\n",
    "*EthOS Reference Number: 64001*\n",
    "\n",
    "[**Intro**](intro.html) | [**Linear Regression Models**](linear_regression_models.html) | [**Further Insight**](further_insight.html) | [**Data Preprocessing Intro**](data_preprocessing_intro.html) | [**Data Preprocessing Continuous**](data_preprocessing_continuous.html) | [**Data Preprocessing Insights**](data_preprocessing_insights.html)"
   ]
  },
  {
   "cell_type": "markdown",
   "id": "5dd58a9a",
   "metadata": {},
   "source": [
    "#### Imported Library\n",
    "\n",
    "- **Pandas**: \n",
    "  Used to process data from Excel into dataframes "
   ]
  },
  {
   "cell_type": "code",
   "execution_count": 7,
   "id": "90cf7893",
   "metadata": {},
   "outputs": [],
   "source": [
    "import pandas as pd"
   ]
  },
  {
   "cell_type": "markdown",
   "id": "5d1421f9",
   "metadata": {},
   "source": [
    "#### Extracting necessary data for first pie graph"
   ]
  },
  {
   "cell_type": "code",
   "execution_count": 8,
   "id": "61aeef39",
   "metadata": {},
   "outputs": [
    {
     "name": "stdout",
     "output_type": "stream",
     "text": [
      "  Compared to a year ago, has your cost of living changed?  Unnamed: 1\n",
      "0                                       It increased                93\n",
      "1                                       It decreased                 3\n",
      "2                                 It stayed the same                 5\n"
     ]
    }
   ],
   "source": [
    "file_name = \"data_general/2023.xlsx\"\n",
    "sheet_name = '1.1'\n",
    "\n",
    "df_Intro_pie_one = pd.read_excel(file_name, sheet_name, skiprows=13, nrows=(3), usecols='A, B')\n",
    "\n",
    "print(df_Intro_pie_one)"
   ]
  },
  {
   "cell_type": "markdown",
   "id": "ffbdf4b9",
   "metadata": {},
   "source": [
    "#### Removing the last two rows because of adding up error from the data\n"
   ]
  },
  {
   "cell_type": "code",
   "execution_count": 9,
   "id": "97e74b85",
   "metadata": {},
   "outputs": [
    {
     "name": "stdout",
     "output_type": "stream",
     "text": [
      "  Compared to a year ago, has your cost of living changed?  Unnamed: 1\n",
      "0                                       It increased                93\n"
     ]
    }
   ],
   "source": [
    "df_Intro_pie_one = df_Intro_pie_one.iloc[:1]\n",
    "print(df_Intro_pie_one)"
   ]
  },
  {
   "cell_type": "markdown",
   "id": "142b6e15",
   "metadata": {},
   "source": [
    "#### Renaming one column and adding a cleaner value"
   ]
  },
  {
   "cell_type": "code",
   "execution_count": 10,
   "id": "91396b2b",
   "metadata": {},
   "outputs": [
    {
     "name": "stdout",
     "output_type": "stream",
     "text": [
      "  Compared to a year ago, has your cost of living changed?  All Adults\n",
      "0                                       It increased                93\n",
      "1                           It decreased or the same                 7\n"
     ]
    }
   ],
   "source": [
    "df_Intro_pie_one = df_Intro_pie_one.rename(columns={'Unnamed: 1': 'All Adults'})\n",
    "\n",
    "new_row = pd.DataFrame({'Compared to a year ago, has your cost of living changed?': ['It decreased or the same'],\n",
    "                        'All Adults': [7]})\n",
    "df_Intro_pie_one = pd.concat([df_Intro_pie_one, new_row])\n",
    "df_Intro_pie_one = df_Intro_pie_one.reset_index(drop=True)\n",
    "print(df_Intro_pie_one)"
   ]
  },
  {
   "cell_type": "markdown",
   "id": "3761b74e",
   "metadata": {},
   "source": [
    "#### Extracting necessary data for second pie graph renaming one column"
   ]
  },
  {
   "cell_type": "code",
   "execution_count": 11,
   "id": "43d79bff",
   "metadata": {},
   "outputs": [
    {
     "name": "stdout",
     "output_type": "stream",
     "text": [
      "  Could your household afford to pay an unexpected, but necessary, expense of £850?   \\\n",
      "0                                                Yes                                   \n",
      "1                                                 No                                   \n",
      "2                                         Don't know                                   \n",
      "3                                  Prefer not to say                                   \n",
      "\n",
      "   All Adults  \n",
      "0          55  \n",
      "1          31  \n",
      "2          10  \n",
      "3           4  \n"
     ]
    }
   ],
   "source": [
    "sheet_name = '2.1'\n",
    "df_Intro_pie_two = pd.read_excel(file_name, sheet_name, skiprows=13, nrows=(4), usecols='A, B')\n",
    "\n",
    "# Renaming one column\n",
    "df_Intro_pie_two = df_Intro_pie_two.rename(columns={'Unnamed: 1': 'All Adults'})\n",
    "\n",
    "print(df_Intro_pie_two)"
   ]
  },
  {
   "cell_type": "markdown",
   "id": "ec130869",
   "metadata": {},
   "source": [
    "#### Extracting necessary data for third pie graph renaming one column"
   ]
  },
  {
   "cell_type": "code",
   "execution_count": 12,
   "id": "3d6bb9c5",
   "metadata": {},
   "outputs": [
    {
     "name": "stdout",
     "output_type": "stream",
     "text": [
      "  In view of the general economic situation, do you think you will be able to save any money in the next 12 months?  \\\n",
      "0                                                Yes                                                                  \n",
      "1                                                 No                                                                  \n",
      "2                                         Don't know                                                                  \n",
      "3                                  Prefer not to say                                                                  \n",
      "\n",
      "   All Adults  \n",
      "0          35  \n",
      "1          44  \n",
      "2          19  \n",
      "3           2  \n"
     ]
    }
   ],
   "source": [
    "sheet_name = '2.1'\n",
    "df_Intro_pie_three = pd.read_excel(file_name, sheet_name, skiprows=23, nrows=(4), usecols='A, B')\n",
    "\n",
    "# Renaming one column\n",
    "df_Intro_pie_three = df_Intro_pie_three.rename(columns={'Unnamed: 1': 'All Adults'})\n",
    "\n",
    "print(df_Intro_pie_three)"
   ]
  },
  {
   "cell_type": "markdown",
   "id": "ba33b5fd",
   "metadata": {},
   "source": [
    "#### Exporting all data to an excel file"
   ]
  },
  {
   "cell_type": "code",
   "execution_count": 9,
   "id": "b8ce0149",
   "metadata": {},
   "outputs": [],
   "source": [
    "file_name = 'Pies_Intro.xlsx'"
   ]
  },
  {
   "cell_type": "code",
   "execution_count": 10,
   "id": "b9b6374b",
   "metadata": {},
   "outputs": [],
   "source": [
    "# saving the excel\n",
    "with pd.ExcelWriter(file_name, engine='openpyxl') as writer:\n",
    "    # Write each DataFrame to a different sheet\n",
    "    df_Intro_pie_one.to_excel(writer, sheet_name='1', index=False)\n",
    "    df_Intro_pie_two.to_excel(writer, sheet_name='2', index=False)\n",
    "    df_Intro_pie_three.to_excel(writer, sheet_name='3', index=False)"
   ]
  }
 ],
 "metadata": {
  "kernelspec": {
   "display_name": "Python 3 (ipykernel)",
   "language": "python",
   "name": "python3"
  },
  "language_info": {
   "codemirror_mode": {
    "name": "ipython",
    "version": 3
   },
   "file_extension": ".py",
   "mimetype": "text/x-python",
   "name": "python",
   "nbconvert_exporter": "python",
   "pygments_lexer": "ipython3",
   "version": "3.11.5"
  }
 },
 "nbformat": 4,
 "nbformat_minor": 5
}
