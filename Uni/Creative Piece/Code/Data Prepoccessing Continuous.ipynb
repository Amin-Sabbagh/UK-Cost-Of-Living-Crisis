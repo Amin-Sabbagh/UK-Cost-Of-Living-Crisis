{
 "cells": [
  {
   "cell_type": "markdown",
   "id": "18b898e7",
   "metadata": {},
   "source": [
    "# COST OF LIVING IN THE UK: INSIGHTS VIA AI, DATA VISUALIZATION, AND STORYTELLING\n",
    "\n",
    "*By Amin Sabbagh*  \n",
    "*Student ID: 18055392* <br>\n",
    "*EthOS Reference Number: 64001*\n",
    "\n",
    "[**Intro**](intro.html) | [**Linear Regression Models**](linear_regression_models.html) | [**Further Insight**](further_insight.html) | [**Data Preprocessing Intro**](data_preprocessing_intro.html) | [**Data Preprocessing Continuous**](data_preprocessing_continuous.html) | [**Data Preprocessing Insights**](data_preprocessing_insights.html)"
   ]
  },
  {
   "cell_type": "markdown",
   "id": "2b7ddc01",
   "metadata": {},
   "source": [
    "#### Imported Library\n",
    "\n",
    "- **Pandas**: \n",
    "  Used to process data from Excel into dataframes "
   ]
  },
  {
   "cell_type": "code",
   "execution_count": 16,
   "id": "15be5c60",
   "metadata": {},
   "outputs": [],
   "source": [
    "import pandas as pd"
   ]
  },
  {
   "cell_type": "markdown",
   "id": "9c5fe4fa",
   "metadata": {},
   "source": [
    "#### Extracting necessary data for variables needed for linear regression models and line graphs"
   ]
  },
  {
   "cell_type": "code",
   "execution_count": 5,
   "id": "ceff4fdc",
   "metadata": {},
   "outputs": [
    {
     "name": "stdout",
     "output_type": "stream",
     "text": [
      "        Date  CPI\n",
      "0   2016 JAN  0.6\n",
      "1   2016 FEB  0.6\n",
      "2   2016 MAR  0.8\n",
      "3   2016 APR  0.7\n",
      "4   2016 MAY  0.7\n",
      "..       ...  ...\n",
      "91  2023 AUG  6.3\n",
      "92  2023 SEP  6.3\n",
      "93  2023 OCT  4.7\n",
      "94  2023 NOV  4.2\n",
      "95  2023 DEC  4.2\n",
      "\n",
      "[96 rows x 2 columns]\n"
     ]
    }
   ],
   "source": [
    "# Specify the sheet name from which to read data\n",
    "file_name = \"data_LRM/CPI.xlsx\"\n",
    "sheet_name = 'data'\n",
    "\n",
    "# Read data from Excel file into a DataFrame\n",
    "df1 = pd.read_excel(file_name, sheet_name, skiprows=506, usecols='A, B')\n",
    "\n",
    "# Specify the new column names\n",
    "df1.columns = [\"Date\", \"CPI\"]\n",
    "\n",
    "#remove last row for consistency \n",
    "df1 = df1[:-1]\n",
    "\n",
    "# Display the DataFrame with the updated column names\n",
    "print(df1)"
   ]
  },
  {
   "cell_type": "code",
   "execution_count": 6,
   "id": "67ea48c3",
   "metadata": {},
   "outputs": [
    {
     "name": "stdout",
     "output_type": "stream",
     "text": [
      "         Date  Food Inflation\n",
      "0  2016-01-01            -2.6\n",
      "1  2016-02-01            -2.2\n",
      "2  2016-03-01            -2.8\n",
      "3  2016-04-01            -2.5\n",
      "4  2016-05-01            -2.8\n",
      "..        ...             ...\n",
      "91 2023-08-01            13.6\n",
      "92 2023-09-01            12.2\n",
      "93 2023-10-01            10.1\n",
      "94 2023-11-01             9.2\n",
      "95 2023-12-01             8.0\n",
      "\n",
      "[96 rows x 2 columns]\n"
     ]
    }
   ],
   "source": [
    "# Specify the sheet name from which to read data\n",
    "file_name = \"data_LRM/food.xlsx\"\n",
    "sheet_name = 'Food inflation'\n",
    "\n",
    "# Read data from Excel file into a DataFrame\n",
    "df2 = pd.read_excel(file_name, sheet_name, skiprows=44, usecols='A, B')\n",
    "\n",
    "# Specify the new column names\n",
    "df2.columns = [\"Date\", \"Food Inflation\"]\n",
    "\n",
    "df2 = df2[:-1]\n",
    "\n",
    "# Display the DataFrame with the updated column names\n",
    "print(df2)"
   ]
  },
  {
   "cell_type": "code",
   "execution_count": 7,
   "id": "5dd53790",
   "metadata": {
    "tags": [
     "hide_cell"
    ]
   },
   "outputs": [
    {
     "name": "stdout",
     "output_type": "stream",
     "text": [
      "         Date  Resturants Inflation\n",
      "0  2016-01-01                   1.8\n",
      "1  2016-02-01                   1.7\n",
      "2  2016-03-01                   1.9\n",
      "3  2016-04-01                   2.1\n",
      "4  2016-05-01                   2.2\n",
      "..        ...                   ...\n",
      "91 2023-08-01                   8.8\n",
      "92 2023-09-01                   9.1\n",
      "93 2023-10-01                   8.8\n",
      "94 2023-11-01                   8.2\n",
      "95 2023-12-01                   7.7\n",
      "\n",
      "[96 rows x 2 columns]\n"
     ]
    }
   ],
   "source": [
    "sheet_name = 'Restaurant and cafe inflation'\n",
    "\n",
    "# Read data from Excel file into a DataFrame\n",
    "df3 = pd.read_excel(file_name, sheet_name, skiprows=44, usecols='A, B')\n",
    "\n",
    "# Specify the new column names\n",
    "df3.columns = [\"Date\",\"Resturants Inflation\"]\n",
    "\n",
    "df3 = df3[:-1]\n",
    "\n",
    "# Display the DataFrame with the updated column names\n",
    "print(df3)"
   ]
  },
  {
   "cell_type": "code",
   "execution_count": 8,
   "id": "1c6817f1",
   "metadata": {},
   "outputs": [
    {
     "name": "stdout",
     "output_type": "stream",
     "text": [
      "        Date  Rental Price\n",
      "0   2016 Jan           2.6\n",
      "1   2016 Feb           2.6\n",
      "2   2016 Mar           2.6\n",
      "3   2016 Apr           2.6\n",
      "4   2016 May           2.5\n",
      "..       ...           ...\n",
      "91  2023 Aug           5.6\n",
      "92  2023 Sep           5.7\n",
      "93  2023 Oct           6.1\n",
      "94  2023 Nov           6.2\n",
      "95  2023 Dec           6.2\n",
      "\n",
      "[96 rows x 2 columns]\n"
     ]
    }
   ],
   "source": [
    "# Specify the sheet name from which to read data\n",
    "file_name = \"data_LRM/housing.xlsx\"\n",
    "sheet_name = 'Rental price growth'\n",
    "\n",
    "# Read data from Excel file into a DataFrame\n",
    "df4 = pd.read_excel(file_name, sheet_name, skiprows=5, usecols='A, B')\n",
    "\n",
    "# Specify the new column names\n",
    "df4.columns = [\"Date\", \"Rental Price\"]\n",
    "\n",
    "df4 = df4[:-1]\n",
    "\n",
    "# Display the DataFrame with the updated column names\n",
    "print(df4)"
   ]
  },
  {
   "cell_type": "code",
   "execution_count": 9,
   "id": "7f975267",
   "metadata": {},
   "outputs": [
    {
     "name": "stdout",
     "output_type": "stream",
     "text": [
      "        Date  House Price\n",
      "0   2016 Jan          7.8\n",
      "1   2016 Feb          7.7\n",
      "2   2016 Mar          8.4\n",
      "3   2016 Apr          7.9\n",
      "4   2016 May          8.0\n",
      "..       ...          ...\n",
      "91  2023 Aug         -0.4\n",
      "92  2023 Sep         -1.4\n",
      "93  2023 Oct         -1.3\n",
      "94  2023 Nov         -2.3\n",
      "95  2023 Dec         -1.4\n",
      "\n",
      "[96 rows x 2 columns]\n"
     ]
    }
   ],
   "source": [
    "sheet_name = 'House price growth'\n",
    "\n",
    "# Read data from Excel file into a DataFrame\n",
    "df5 = pd.read_excel(file_name, sheet_name, skiprows=5, usecols='A, B')\n",
    "\n",
    "# Specify the new column names\n",
    "df5.columns = [\"Date\", \"House Price\"]\n",
    "\n",
    "# Display the DataFrame with the updated column names\n",
    "print(df5)"
   ]
  },
  {
   "cell_type": "code",
   "execution_count": 10,
   "id": "2df0a5ef",
   "metadata": {},
   "outputs": [
    {
     "name": "stdout",
     "output_type": "stream",
     "text": [
      "         Date  Motor Fuel Price\n",
      "0  2016-01-01              -7.3\n",
      "1  2016-02-01              -7.3\n",
      "2  2016-03-01              -9.2\n",
      "3  2016-04-01              -7.5\n",
      "4  2016-05-01              -6.8\n",
      "..        ...               ...\n",
      "91 2023-08-01             -16.4\n",
      "92 2023-09-01              -9.7\n",
      "93 2023-10-01              -7.6\n",
      "94 2023-11-01             -10.6\n",
      "95 2023-12-01             -10.8\n",
      "\n",
      "[96 rows x 2 columns]\n"
     ]
    }
   ],
   "source": [
    "# Specify the sheet name from which to read data\n",
    "file_name = \"data_LRM/energy.xlsx\"\n",
    "sheet_name = 'Motor fuel inflation'\n",
    "\n",
    "# Read data from Excel file into a DataFrame\n",
    "df6 = pd.read_excel(file_name, sheet_name, skiprows=44, usecols='A, B')\n",
    "\n",
    "# Specify the new column names\n",
    "df6.columns = [\"Date\", \"Motor Fuel Price\"]\n",
    "\n",
    "#remove last row for consistency \n",
    "df6 = df6[:-1]\n",
    "\n",
    "# Display the DataFrame with the updated column names\n",
    "print(df6)"
   ]
  },
  {
   "cell_type": "code",
   "execution_count": 11,
   "id": "ae330550",
   "metadata": {},
   "outputs": [
    {
     "name": "stdout",
     "output_type": "stream",
     "text": [
      "         Date  Gas inflation\n",
      "0  2016-01-01           -6.0\n",
      "1  2016-02-01           -6.0\n",
      "2  2016-03-01           -6.0\n",
      "3  2016-04-01           -7.3\n",
      "4  2016-05-01           -6.7\n",
      "..        ...            ...\n",
      "91 2023-08-01            1.7\n",
      "92 2023-09-01            1.7\n",
      "93 2023-10-01          -31.0\n",
      "94 2023-11-01          -31.0\n",
      "95 2023-12-01          -31.0\n",
      "\n",
      "[96 rows x 2 columns]\n"
     ]
    }
   ],
   "source": [
    "sheet_name = 'Gas inflation'\n",
    "\n",
    "# Read data from Excel file into a DataFrame\n",
    "df7 = pd.read_excel(file_name, sheet_name, skiprows=44, usecols='A, B')\n",
    "\n",
    "# Specify the new column names\n",
    "df7.columns = [\"Date\", \"Gas inflation\"]\n",
    "\n",
    "#remove last row for consistency \n",
    "df7 = df7[:-1]\n",
    "\n",
    "# Display the DataFrame with the updated column names\n",
    "print(df7)"
   ]
  },
  {
   "cell_type": "markdown",
   "id": "ff58515c",
   "metadata": {},
   "source": [
    "#### Drop repeated columns"
   ]
  },
  {
   "cell_type": "code",
   "execution_count": 12,
   "id": "6ccc2526",
   "metadata": {},
   "outputs": [],
   "source": [
    "df2 = df2.drop(columns=[\"Date\"])\n",
    "df3 = df3.drop(columns=[\"Date\"])\n",
    "df4 = df4.drop(columns=[\"Date\"])\n",
    "df5 = df5.drop(columns=[\"Date\"])\n",
    "df6 = df6.drop(columns=[\"Date\"])\n",
    "df7 = df7.drop(columns=[\"Date\"])"
   ]
  },
  {
   "cell_type": "markdown",
   "id": "e3319da2",
   "metadata": {},
   "source": [
    "#### Concatenate all data into a single dataframe"
   ]
  },
  {
   "cell_type": "code",
   "execution_count": 13,
   "id": "5ac2e0a4",
   "metadata": {},
   "outputs": [
    {
     "name": "stdout",
     "output_type": "stream",
     "text": [
      "        Date  CPI  Food Inflation  Resturants Inflation  Rental Price  \\\n",
      "0   2016 JAN  0.6            -2.6                   1.8           2.6   \n",
      "1   2016 FEB  0.6            -2.2                   1.7           2.6   \n",
      "2   2016 MAR  0.8            -2.8                   1.9           2.6   \n",
      "3   2016 APR  0.7            -2.5                   2.1           2.6   \n",
      "4   2016 MAY  0.7            -2.8                   2.2           2.5   \n",
      "..       ...  ...             ...                   ...           ...   \n",
      "91  2023 AUG  6.3            13.6                   8.8           5.6   \n",
      "92  2023 SEP  6.3            12.2                   9.1           5.7   \n",
      "93  2023 OCT  4.7            10.1                   8.8           6.1   \n",
      "94  2023 NOV  4.2             9.2                   8.2           6.2   \n",
      "95  2023 DEC  4.2             8.0                   7.7           6.2   \n",
      "\n",
      "    House Price  Motor Fuel Price  Gas inflation  \n",
      "0           7.8              -7.3           -6.0  \n",
      "1           7.7              -7.3           -6.0  \n",
      "2           8.4              -9.2           -6.0  \n",
      "3           7.9              -7.5           -7.3  \n",
      "4           8.0              -6.8           -6.7  \n",
      "..          ...               ...            ...  \n",
      "91         -0.4             -16.4            1.7  \n",
      "92         -1.4              -9.7            1.7  \n",
      "93         -1.3              -7.6          -31.0  \n",
      "94         -2.3             -10.6          -31.0  \n",
      "95         -1.4             -10.8          -31.0  \n",
      "\n",
      "[96 rows x 8 columns]\n"
     ]
    }
   ],
   "source": [
    "# Concatenate df and df2 along the columns axis\n",
    "df = pd.concat([df1, df2, df3, df4, df5, df6, df7], axis=1)\n",
    "\n",
    "# Assign a name to the DataFrame \n",
    "df.name = \"Cost of living\"\n",
    "\n",
    "# Display the updated DataFrame\n",
    "print(df)"
   ]
  },
  {
   "cell_type": "markdown",
   "id": "c62ea87c",
   "metadata": {},
   "source": [
    "#### Exporting all data to an excel file"
   ]
  },
  {
   "cell_type": "code",
   "execution_count": 14,
   "id": "e4cf4bcd",
   "metadata": {
    "tags": [
     "hide_cell"
    ]
   },
   "outputs": [],
   "source": [
    "# determining the name of the file\n",
    "file_name = 'COL.xlsx'"
   ]
  },
  {
   "cell_type": "code",
   "execution_count": 15,
   "id": "5c3baf70",
   "metadata": {
    "scrolled": true,
    "tags": [
     "hide_cell"
    ]
   },
   "outputs": [],
   "source": [
    "# saving the excel\n",
    "df.to_excel(file_name)"
   ]
  }
 ],
 "metadata": {
  "kernelspec": {
   "display_name": "Python 3 (ipykernel)",
   "language": "python",
   "name": "python3"
  },
  "language_info": {
   "codemirror_mode": {
    "name": "ipython",
    "version": 3
   },
   "file_extension": ".py",
   "mimetype": "text/x-python",
   "name": "python",
   "nbconvert_exporter": "python",
   "pygments_lexer": "ipython3",
   "version": "3.11.5"
  }
 },
 "nbformat": 4,
 "nbformat_minor": 5
}
